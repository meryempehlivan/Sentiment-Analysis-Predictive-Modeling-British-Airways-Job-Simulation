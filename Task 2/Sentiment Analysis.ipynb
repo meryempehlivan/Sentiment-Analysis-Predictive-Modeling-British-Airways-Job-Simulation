{
 "cells": [
  {
   "cell_type": "markdown",
   "id": "c46a5ffe",
   "metadata": {},
   "source": [
    "# Sentiment Analysis for British Airlines Reviews"
   ]
  },
  {
   "cell_type": "code",
   "execution_count": 20,
   "id": "9b1cebee",
   "metadata": {},
   "outputs": [
    {
     "data": {
      "text/html": [
       "        <script type=\"text/javascript\">\n",
       "        window.PlotlyConfig = {MathJaxConfig: 'local'};\n",
       "        if (window.MathJax && window.MathJax.Hub && window.MathJax.Hub.Config) {window.MathJax.Hub.Config({SVG: {font: \"STIX-Web\"}});}\n",
       "        if (typeof require !== 'undefined') {\n",
       "        require.undef(\"plotly\");\n",
       "        requirejs.config({\n",
       "            paths: {\n",
       "                'plotly': ['https://cdn.plot.ly/plotly-2.12.1.min']\n",
       "            }\n",
       "        });\n",
       "        require(['plotly'], function(Plotly) {\n",
       "            window._Plotly = Plotly;\n",
       "        });\n",
       "        }\n",
       "        </script>\n",
       "        "
      ]
     },
     "metadata": {},
     "output_type": "display_data"
    },
    {
     "name": "stderr",
     "output_type": "stream",
     "text": [
      "[nltk_data] Downloading package stopwords to\n",
      "[nltk_data]     C:\\Users\\Meryem\\AppData\\Roaming\\nltk_data...\n",
      "[nltk_data]   Package stopwords is already up-to-date!\n",
      "[nltk_data] Downloading package wordnet to\n",
      "[nltk_data]     C:\\Users\\Meryem\\AppData\\Roaming\\nltk_data...\n"
     ]
    }
   ],
   "source": [
    "# Standard Libraries\n",
    "\n",
    "import numpy as np\n",
    "import pandas as pd\n",
    "import warnings\n",
    "warnings.filterwarnings('ignore')\n",
    "\n",
    "# For visualizations\n",
    "import matplotlib.pyplot as plt\n",
    "import seaborn as sns\n",
    "%matplotlib inline\n",
    "import plotly.offline as py\n",
    "py.init_notebook_mode(connected=True)\n",
    "import plotly.graph_objs as go\n",
    "import plotly.tools as tls\n",
    "\n",
    "\n",
    "# For Web Scrapping\n",
    "import requests\n",
    "from bs4 import BeautifulSoup\n",
    "\n",
    "# For Data Pre-processing\n",
    "import re\n",
    "import nltk\n",
    "nltk.download('stopwords')\n",
    "nltk.download('wordnet')\n",
    "from nltk.corpus import stopwords\n",
    "from sklearn.feature_extraction.text import CountVectorizer   \n",
    "from textblob import Word, TextBlob\n",
    "from wordcloud import WordCloud , STOPWORDS\n",
    "\n",
    "# For topic modeling\n",
    "from sklearn.decomposition import NMF, LatentDirichletAllocation\n",
    "\n",
    "# For sentiment analysis\n",
    "from vaderSentiment.vaderSentiment import SentimentIntensityAnalyzer\n",
    "analyzer = SentimentIntensityAnalyzer()"
   ]
  },
  {
   "cell_type": "code",
   "execution_count": 1,
   "id": "c93e3004",
   "metadata": {
    "scrolled": true
   },
   "outputs": [
    {
     "data": {
      "text/html": [
       "<div>\n",
       "<style scoped>\n",
       "    .dataframe tbody tr th:only-of-type {\n",
       "        vertical-align: middle;\n",
       "    }\n",
       "\n",
       "    .dataframe tbody tr th {\n",
       "        vertical-align: top;\n",
       "    }\n",
       "\n",
       "    .dataframe thead th {\n",
       "        text-align: right;\n",
       "    }\n",
       "</style>\n",
       "<table border=\"1\" class=\"dataframe\">\n",
       "  <thead>\n",
       "    <tr style=\"text-align: right;\">\n",
       "      <th></th>\n",
       "      <th>Unnamed: 0</th>\n",
       "      <th>reviews</th>\n",
       "    </tr>\n",
       "  </thead>\n",
       "  <tbody>\n",
       "    <tr>\n",
       "      <th>0</th>\n",
       "      <td>0</td>\n",
       "      <td>✅ Trip Verified |  Absolutely terrible, lost m...</td>\n",
       "    </tr>\n",
       "    <tr>\n",
       "      <th>1</th>\n",
       "      <td>1</td>\n",
       "      <td>✅ Trip Verified |  We booked premium economy r...</td>\n",
       "    </tr>\n",
       "    <tr>\n",
       "      <th>2</th>\n",
       "      <td>2</td>\n",
       "      <td>✅ Trip Verified |  We chose Rotterdam and Lond...</td>\n",
       "    </tr>\n",
       "    <tr>\n",
       "      <th>3</th>\n",
       "      <td>3</td>\n",
       "      <td>✅ Trip Verified | The entire booking and ticke...</td>\n",
       "    </tr>\n",
       "    <tr>\n",
       "      <th>4</th>\n",
       "      <td>4</td>\n",
       "      <td>Not Verified |   British Airways cancelled my ...</td>\n",
       "    </tr>\n",
       "    <tr>\n",
       "      <th>...</th>\n",
       "      <td>...</td>\n",
       "      <td>...</td>\n",
       "    </tr>\n",
       "    <tr>\n",
       "      <th>3782</th>\n",
       "      <td>3782</td>\n",
       "      <td>Flight from Heathrow to Toronto. Booked emerge...</td>\n",
       "    </tr>\n",
       "    <tr>\n",
       "      <th>3783</th>\n",
       "      <td>3783</td>\n",
       "      <td>LHR to HAM. Purser addresses all club passenge...</td>\n",
       "    </tr>\n",
       "    <tr>\n",
       "      <th>3784</th>\n",
       "      <td>3784</td>\n",
       "      <td>My son who had worked for British Airways urge...</td>\n",
       "    </tr>\n",
       "    <tr>\n",
       "      <th>3785</th>\n",
       "      <td>3785</td>\n",
       "      <td>London City-New York JFK via Shannon on A318 b...</td>\n",
       "    </tr>\n",
       "    <tr>\n",
       "      <th>3786</th>\n",
       "      <td>3786</td>\n",
       "      <td>SIN-LHR BA12 B747-436 First Class. Old aircraf...</td>\n",
       "    </tr>\n",
       "  </tbody>\n",
       "</table>\n",
       "<p>3787 rows × 2 columns</p>\n",
       "</div>"
      ],
      "text/plain": [
       "      Unnamed: 0                                            reviews\n",
       "0              0  ✅ Trip Verified |  Absolutely terrible, lost m...\n",
       "1              1  ✅ Trip Verified |  We booked premium economy r...\n",
       "2              2  ✅ Trip Verified |  We chose Rotterdam and Lond...\n",
       "3              3  ✅ Trip Verified | The entire booking and ticke...\n",
       "4              4  Not Verified |   British Airways cancelled my ...\n",
       "...          ...                                                ...\n",
       "3782        3782  Flight from Heathrow to Toronto. Booked emerge...\n",
       "3783        3783  LHR to HAM. Purser addresses all club passenge...\n",
       "3784        3784  My son who had worked for British Airways urge...\n",
       "3785        3785  London City-New York JFK via Shannon on A318 b...\n",
       "3786        3786  SIN-LHR BA12 B747-436 First Class. Old aircraf...\n",
       "\n",
       "[3787 rows x 2 columns]"
      ]
     },
     "execution_count": 1,
     "metadata": {},
     "output_type": "execute_result"
    }
   ],
   "source": [
    "# Load the amazon review dataset\n",
    "df = pd.read_csv('BA_reviews.csv')\n",
    "df"
   ]
  },
  {
   "cell_type": "markdown",
   "id": "abefd3a9",
   "metadata": {},
   "source": [
    "## Pre-Processing "
   ]
  },
  {
   "cell_type": "code",
   "execution_count": 2,
   "id": "0e064b80",
   "metadata": {},
   "outputs": [],
   "source": [
    "df.reviews= df.reviews.str.split('|',expand=True)[1]"
   ]
  },
  {
   "cell_type": "code",
   "execution_count": 11,
   "id": "51fc9c42",
   "metadata": {},
   "outputs": [
    {
     "data": {
      "text/html": [
       "<div>\n",
       "<style scoped>\n",
       "    .dataframe tbody tr th:only-of-type {\n",
       "        vertical-align: middle;\n",
       "    }\n",
       "\n",
       "    .dataframe tbody tr th {\n",
       "        vertical-align: top;\n",
       "    }\n",
       "\n",
       "    .dataframe thead th {\n",
       "        text-align: right;\n",
       "    }\n",
       "</style>\n",
       "<table border=\"1\" class=\"dataframe\">\n",
       "  <thead>\n",
       "    <tr style=\"text-align: right;\">\n",
       "      <th></th>\n",
       "      <th>Unnamed: 0</th>\n",
       "      <th>reviews</th>\n",
       "    </tr>\n",
       "  </thead>\n",
       "  <tbody>\n",
       "    <tr>\n",
       "      <th>0</th>\n",
       "      <td>0</td>\n",
       "      <td>Absolutely terrible lost my luggage on both f...</td>\n",
       "    </tr>\n",
       "    <tr>\n",
       "      <th>1</th>\n",
       "      <td>1</td>\n",
       "      <td>We booked premium economy round trip from Pho...</td>\n",
       "    </tr>\n",
       "    <tr>\n",
       "      <th>2</th>\n",
       "      <td>2</td>\n",
       "      <td>We chose Rotterdam and London City airport be...</td>\n",
       "    </tr>\n",
       "    <tr>\n",
       "      <th>3</th>\n",
       "      <td>3</td>\n",
       "      <td>The entire booking and ticketing experience h...</td>\n",
       "    </tr>\n",
       "    <tr>\n",
       "      <th>4</th>\n",
       "      <td>4</td>\n",
       "      <td>British Airways cancelled my flight less than...</td>\n",
       "    </tr>\n",
       "  </tbody>\n",
       "</table>\n",
       "</div>"
      ],
      "text/plain": [
       "   Unnamed: 0                                            reviews\n",
       "0           0   Absolutely terrible lost my luggage on both f...\n",
       "1           1   We booked premium economy round trip from Pho...\n",
       "2           2   We chose Rotterdam and London City airport be...\n",
       "3           3   The entire booking and ticketing experience h...\n",
       "4           4   British Airways cancelled my flight less than..."
      ]
     },
     "execution_count": 11,
     "metadata": {},
     "output_type": "execute_result"
    }
   ],
   "source": [
    "def replace(text):            # Define a function to clean the text\n",
    "    text = re.sub(r'[^A-Za-z]+', ' ', str(text)) # Replaces all special characters and numericals with blanks and leaving the alphabets\n",
    "    return text\n",
    "# Cleaning the text in the review column\n",
    "df['reviews']= df[\"reviews\"].apply(replace)\n",
    "df.head()"
   ]
  },
  {
   "cell_type": "code",
   "execution_count": 12,
   "id": "f8060fa4",
   "metadata": {},
   "outputs": [],
   "source": [
    "#Turning strings into lowercase\n",
    "df['reviews'] = df['reviews'].str.lower()"
   ]
  },
  {
   "cell_type": "code",
   "execution_count": 13,
   "id": "835dc8ab",
   "metadata": {},
   "outputs": [],
   "source": [
    "#Removing punctuations\n",
    "df['reviews'] = df['reviews'].str.replace('[^\\w\\s]', '')"
   ]
  },
  {
   "cell_type": "code",
   "execution_count": 14,
   "id": "6eecd39f",
   "metadata": {},
   "outputs": [],
   "source": [
    "#Removing numbers\n",
    "df['reviews'] = df['reviews'].str.replace('\\d', '')"
   ]
  },
  {
   "cell_type": "code",
   "execution_count": 15,
   "id": "16410288",
   "metadata": {},
   "outputs": [
    {
     "data": {
      "text/plain": [
       "0    [absolutely, terrible, lost, my, luggage, on, ...\n",
       "1    [we, booked, premium, economy, round, trip, fr...\n",
       "2    [we, chose, rotterdam, and, london, city, airp...\n",
       "3    [the, entire, booking, and, ticketing, experie...\n",
       "4    [british, airways, cancelled, my, flight, less...\n",
       "Name: reviews, dtype: object"
      ]
     },
     "execution_count": 15,
     "metadata": {},
     "output_type": "execute_result"
    }
   ],
   "source": [
    "#Word tokenization\n",
    "df[\"reviews\"].apply(lambda x: TextBlob(x).words).head()"
   ]
  },
  {
   "cell_type": "code",
   "execution_count": 18,
   "id": "d5bac519",
   "metadata": {},
   "outputs": [],
   "source": [
    "#Removing stop words (\"and,\" \"the,\" \"of,\" and \"it.\")\n",
    "sw = stopwords.words('english')\n",
    "df['reviews'] = df['reviews'].apply(lambda x: \" \".join(x for x in str(x).split() if x not in sw))"
   ]
  },
  {
   "cell_type": "code",
   "execution_count": 21,
   "id": "e018b602",
   "metadata": {},
   "outputs": [
    {
     "data": {
      "text/plain": [
       "0    absolutely terrible lost luggage flight delive...\n",
       "1    booked premium economy round trip phoenix zuri...\n",
       "2    chose rotterdam london city airport convenienc...\n",
       "3    entire booking ticketing experience stressful ...\n",
       "4    british airway cancelled flight le hour automa...\n",
       "5    wanted write review could give huge thank one ...\n",
       "6    check fast friendly security breeze lounge bus...\n",
       "7    first time seen new club world suite seat comf...\n",
       "8    flew business class doha london st march servi...\n",
       "9    starting heathrow terminal check fairly easy f...\n",
       "Name: reviews, dtype: object"
      ]
     },
     "execution_count": 21,
     "metadata": {},
     "output_type": "execute_result"
    }
   ],
   "source": [
    "#Lemmatization\n",
    "df['reviews'] = df['reviews'].apply(lambda x: \" \".join([Word(word).lemmatize() for word in x.split()]))\n",
    "df['reviews'].head(10)"
   ]
  },
  {
   "cell_type": "markdown",
   "id": "789f545c",
   "metadata": {},
   "source": [
    "## Topic Modeling"
   ]
  },
  {
   "cell_type": "code",
   "execution_count": 29,
   "id": "dc97d74a",
   "metadata": {},
   "outputs": [],
   "source": [
    "cv = CountVectorizer()\n",
    "x = cv.fit_transform(df['reviews'])         # Fitting the vectorizer to the dataset"
   ]
  },
  {
   "cell_type": "code",
   "execution_count": 30,
   "id": "23b87dd4",
   "metadata": {},
   "outputs": [
    {
     "data": {
      "text/plain": [
       "<3787x9681 sparse matrix of type '<class 'numpy.int64'>'\n",
       "\twith 155586 stored elements in Compressed Sparse Row format>"
      ]
     },
     "execution_count": 30,
     "metadata": {},
     "output_type": "execute_result"
    }
   ],
   "source": [
    "x"
   ]
  },
  {
   "cell_type": "markdown",
   "id": "b6e95a35",
   "metadata": {},
   "source": [
    "#### Latent Dirichlet Allocation (LDA)"
   ]
  },
  {
   "cell_type": "code",
   "execution_count": 31,
   "id": "1f10286c",
   "metadata": {},
   "outputs": [],
   "source": [
    "# Function to print top words\n",
    "def print_top_words(model, feature_names, n_top_words):\n",
    "    for index, topic in enumerate(model.components_):\n",
    "        message = \"\\nTopic #{}:\".format(index)\n",
    "        message += \" \".join([feature_names[i] for i in topic.argsort()[:-n_top_words - 1 :-1]])\n",
    "        print(message)\n",
    "        print(\"=\"*70)"
   ]
  },
  {
   "cell_type": "code",
   "execution_count": 36,
   "id": "fc402e0b",
   "metadata": {},
   "outputs": [],
   "source": [
    "lda = LatentDirichletAllocation(n_components=15, max_iter=5,\n",
    "                                learning_method = 'online',\n",
    "                                learning_offset = 50.,\n",
    "                                random_state = 0)"
   ]
  },
  {
   "cell_type": "code",
   "execution_count": 37,
   "id": "72c62f68",
   "metadata": {},
   "outputs": [
    {
     "data": {
      "text/html": [
       "<style>#sk-container-id-2 {color: black;}#sk-container-id-2 pre{padding: 0;}#sk-container-id-2 div.sk-toggleable {background-color: white;}#sk-container-id-2 label.sk-toggleable__label {cursor: pointer;display: block;width: 100%;margin-bottom: 0;padding: 0.3em;box-sizing: border-box;text-align: center;}#sk-container-id-2 label.sk-toggleable__label-arrow:before {content: \"▸\";float: left;margin-right: 0.25em;color: #696969;}#sk-container-id-2 label.sk-toggleable__label-arrow:hover:before {color: black;}#sk-container-id-2 div.sk-estimator:hover label.sk-toggleable__label-arrow:before {color: black;}#sk-container-id-2 div.sk-toggleable__content {max-height: 0;max-width: 0;overflow: hidden;text-align: left;background-color: #f0f8ff;}#sk-container-id-2 div.sk-toggleable__content pre {margin: 0.2em;color: black;border-radius: 0.25em;background-color: #f0f8ff;}#sk-container-id-2 input.sk-toggleable__control:checked~div.sk-toggleable__content {max-height: 200px;max-width: 100%;overflow: auto;}#sk-container-id-2 input.sk-toggleable__control:checked~label.sk-toggleable__label-arrow:before {content: \"▾\";}#sk-container-id-2 div.sk-estimator input.sk-toggleable__control:checked~label.sk-toggleable__label {background-color: #d4ebff;}#sk-container-id-2 div.sk-label input.sk-toggleable__control:checked~label.sk-toggleable__label {background-color: #d4ebff;}#sk-container-id-2 input.sk-hidden--visually {border: 0;clip: rect(1px 1px 1px 1px);clip: rect(1px, 1px, 1px, 1px);height: 1px;margin: -1px;overflow: hidden;padding: 0;position: absolute;width: 1px;}#sk-container-id-2 div.sk-estimator {font-family: monospace;background-color: #f0f8ff;border: 1px dotted black;border-radius: 0.25em;box-sizing: border-box;margin-bottom: 0.5em;}#sk-container-id-2 div.sk-estimator:hover {background-color: #d4ebff;}#sk-container-id-2 div.sk-parallel-item::after {content: \"\";width: 100%;border-bottom: 1px solid gray;flex-grow: 1;}#sk-container-id-2 div.sk-label:hover label.sk-toggleable__label {background-color: #d4ebff;}#sk-container-id-2 div.sk-serial::before {content: \"\";position: absolute;border-left: 1px solid gray;box-sizing: border-box;top: 0;bottom: 0;left: 50%;z-index: 0;}#sk-container-id-2 div.sk-serial {display: flex;flex-direction: column;align-items: center;background-color: white;padding-right: 0.2em;padding-left: 0.2em;position: relative;}#sk-container-id-2 div.sk-item {position: relative;z-index: 1;}#sk-container-id-2 div.sk-parallel {display: flex;align-items: stretch;justify-content: center;background-color: white;position: relative;}#sk-container-id-2 div.sk-item::before, #sk-container-id-2 div.sk-parallel-item::before {content: \"\";position: absolute;border-left: 1px solid gray;box-sizing: border-box;top: 0;bottom: 0;left: 50%;z-index: -1;}#sk-container-id-2 div.sk-parallel-item {display: flex;flex-direction: column;z-index: 1;position: relative;background-color: white;}#sk-container-id-2 div.sk-parallel-item:first-child::after {align-self: flex-end;width: 50%;}#sk-container-id-2 div.sk-parallel-item:last-child::after {align-self: flex-start;width: 50%;}#sk-container-id-2 div.sk-parallel-item:only-child::after {width: 0;}#sk-container-id-2 div.sk-dashed-wrapped {border: 1px dashed gray;margin: 0 0.4em 0.5em 0.4em;box-sizing: border-box;padding-bottom: 0.4em;background-color: white;}#sk-container-id-2 div.sk-label label {font-family: monospace;font-weight: bold;display: inline-block;line-height: 1.2em;}#sk-container-id-2 div.sk-label-container {text-align: center;}#sk-container-id-2 div.sk-container {/* jupyter's `normalize.less` sets `[hidden] { display: none; }` but bootstrap.min.css set `[hidden] { display: none !important; }` so we also need the `!important` here to be able to override the default hidden behavior on the sphinx rendered scikit-learn.org. See: https://github.com/scikit-learn/scikit-learn/issues/21755 */display: inline-block !important;position: relative;}#sk-container-id-2 div.sk-text-repr-fallback {display: none;}</style><div id=\"sk-container-id-2\" class=\"sk-top-container\"><div class=\"sk-text-repr-fallback\"><pre>LatentDirichletAllocation(learning_method=&#x27;online&#x27;, learning_offset=50.0,\n",
       "                          max_iter=5, n_components=15, random_state=0)</pre><b>In a Jupyter environment, please rerun this cell to show the HTML representation or trust the notebook. <br />On GitHub, the HTML representation is unable to render, please try loading this page with nbviewer.org.</b></div><div class=\"sk-container\" hidden><div class=\"sk-item\"><div class=\"sk-estimator sk-toggleable\"><input class=\"sk-toggleable__control sk-hidden--visually\" id=\"sk-estimator-id-2\" type=\"checkbox\" checked><label for=\"sk-estimator-id-2\" class=\"sk-toggleable__label sk-toggleable__label-arrow\">LatentDirichletAllocation</label><div class=\"sk-toggleable__content\"><pre>LatentDirichletAllocation(learning_method=&#x27;online&#x27;, learning_offset=50.0,\n",
       "                          max_iter=5, n_components=15, random_state=0)</pre></div></div></div></div></div>"
      ],
      "text/plain": [
       "LatentDirichletAllocation(learning_method='online', learning_offset=50.0,\n",
       "                          max_iter=5, n_components=15, random_state=0)"
      ]
     },
     "execution_count": 37,
     "metadata": {},
     "output_type": "execute_result"
    }
   ],
   "source": [
    "lda.fit(x)"
   ]
  },
  {
   "cell_type": "code",
   "execution_count": 38,
   "id": "5c0dbe50",
   "metadata": {},
   "outputs": [
    {
     "name": "stdout",
     "output_type": "stream",
     "text": [
      "\n",
      "Topics in LDA model: \n",
      "\n",
      "Topic #0:nappy lon winning assign movement mush achieve poo surrounded uninteresting gcm restrict migrate patch owed stinking blend gain sprint ocean shelling engages maximize rebel funsize shortsighted remedied confiming reconfigured steerage familiarity boned oratory nobel suet contemplating regime disrespecting stodge runny\n",
      "======================================================================\n",
      "\n",
      "Topic #1:vce shouted hilton brandy yul uber fro withonce radioed distressing suprised distressed deskthey vi bewildered copiously stench pervading puke vomited alienating surround complimenting innsbruck indicates guard twelfth pic joes germ tenth parallel ana vending committed inboxes skytrax proudly strained tweeted\n",
      "======================================================================\n",
      "\n",
      "Topic #2:senior mr buggy kl wish sathies uni gratitude leaking exceptional lumpur kuala rbi brunei bandar unwavering gurvir dhillon singh event professionalism family journey despicable cognac handout poisoning generously salvage clarity hurdle tirelessly unfolded amid excellence inoperable toward sewage dedication sequence\n",
      "======================================================================\n",
      "\n",
      "Topic #3:crew good cabin meal drink food lounge breakfast seat served flight club chicken ife although wine overall first ok dinner landing friendly main well aircraft nice small comfortable cheese time quality ba service full economy bit pleasant fast selection choice\n",
      "======================================================================\n",
      "\n",
      "Topic #4:ec fco fort beside carry lauderdale article af hyderabad tokyo salt dispute meanwhile bitter safe seemingly wound android odor economist painfully splurge kenya lectured relieve upsetting confined comply switching porto stiff pace commonwealth exemplary rev connexion closely snail tube packaging\n",
      "======================================================================\n",
      "\n",
      "Topic #5:return problem flight ba australia date excellent time good fly year change trip many january seat first later concorde flexible food room point drink march detail asked hour booking travel refused middle experience sydney comfortable bought requested back changed partner\n",
      "======================================================================\n",
      "\n",
      "Topic #6:prestigious booty po carnival flight ba crew time good hour lhr seat sloppy service cabin passenger class unlucky member experience staff unfortunately review airline carrier point onboard meal chicken month although food professional minute given order british day ok left\n",
      "======================================================================\n",
      "\n",
      "Topic #7:hongkong severine flog angel riding ba business flight drink class offered australia return travelled meal food one seat poor long vastly cabin yr cathay outdated leader good service fly choice premier product crew hour even dinner lhr haul unusable much\n",
      "======================================================================\n",
      "\n",
      "Topic #8:heart den parent surgery lustre attack uniform bullied recovery unfit welfare rtm father dissapointment chamonix citzien boozy telluride colorado borrowed designer sideways ifs sitcom humourless shaved underground economics rerun subsidise smarten lan stubble nation sorting medical suffers convention claustrophobia quoting\n",
      "======================================================================\n",
      "\n",
      "Topic #9:wir und ck haben versp wieder letzten unseren verpassen sie mit flughafen rico unser sitzen puerto auch flug tung war gep notebook massive miss nichts geflogen selbst schon anschlussfl eine tet zusammenschluss dem teten erhalten ihre werden ge die machen\n",
      "======================================================================\n",
      "\n",
      "Topic #10:chennai cello junk contacting confirming alaska oman pnr passagers panacotta bill bark bergen lanyard rep txl mi delta helpfulness stooped fired partnered woud transpires gear astonishment reissuing cvv monitored searching verona visa racket swedish flt jargon waffle posting portugal solve\n",
      "======================================================================\n",
      "\n",
      "Topic #11:cruz alex marriage walsh resident willie cheapened eco decline structural panic interview clarify waver funnier sudden participates jokingly amaze astounding suicide renewed sighted tale beening outlook screwing greets attach innovative comparative lex realistically grimm unterstand monsieur objection overt hired croque\n",
      "======================================================================\n",
      "\n",
      "Topic #12:seat flight ba could good boarding back get meal people crew passenger time money said le arrived voucher poor flew food told gatwick aircraft service well really also offered cabin nothing hour bag return wanted turkey although drink cost complaint\n",
      "======================================================================\n",
      "\n",
      "Topic #13:flight ba seat none service london time british airway airline hour class food one business heathrow crew staff would cabin get check economy passenger good customer back even plane first could bag day boarding told experience fly return airport meal\n",
      "======================================================================\n",
      "\n",
      "Topic #14:gluten swissport lh pilot tap avianca irritated apologise aud hearing infinitely botched courier dpd solely gf madam dating lowly meltdown embarrassing sinus fragile rhodes dietary threadbare tiniest arrested field earth devalued investigated degradation tempted waffle id unpolished harrogate dbv ultra\n",
      "======================================================================\n"
     ]
    }
   ],
   "source": [
    "### Topics generated by LDA\n",
    "n_top_words = 40\n",
    "print(\"\\nTopics in LDA model: \")\n",
    "cv_feature_names = cv.get_feature_names_out()\n",
    "print_top_words(lda, cv_feature_names, n_top_words)"
   ]
  },
  {
   "cell_type": "code",
   "execution_count": 39,
   "id": "9121f0b8",
   "metadata": {},
   "outputs": [
    {
     "data": {
      "text/html": [
       "<div>\n",
       "<style scoped>\n",
       "    .dataframe tbody tr th:only-of-type {\n",
       "        vertical-align: middle;\n",
       "    }\n",
       "\n",
       "    .dataframe tbody tr th {\n",
       "        vertical-align: top;\n",
       "    }\n",
       "\n",
       "    .dataframe thead th {\n",
       "        text-align: right;\n",
       "    }\n",
       "</style>\n",
       "<table border=\"1\" class=\"dataframe\">\n",
       "  <thead>\n",
       "    <tr style=\"text-align: right;\">\n",
       "      <th></th>\n",
       "      <th>Unnamed: 0</th>\n",
       "      <th>reviews</th>\n",
       "      <th>Sentiment</th>\n",
       "      <th>Analysis</th>\n",
       "    </tr>\n",
       "  </thead>\n",
       "  <tbody>\n",
       "    <tr>\n",
       "      <th>0</th>\n",
       "      <td>0</td>\n",
       "      <td>absolutely terrible lost luggage flight delive...</td>\n",
       "      <td>-0.9543</td>\n",
       "      <td>Negative</td>\n",
       "    </tr>\n",
       "    <tr>\n",
       "      <th>1</th>\n",
       "      <td>1</td>\n",
       "      <td>booked premium economy round trip phoenix zuri...</td>\n",
       "      <td>0.9035</td>\n",
       "      <td>Positive</td>\n",
       "    </tr>\n",
       "    <tr>\n",
       "      <th>2</th>\n",
       "      <td>2</td>\n",
       "      <td>chose rotterdam london city airport convenienc...</td>\n",
       "      <td>0.3818</td>\n",
       "      <td>Neutral</td>\n",
       "    </tr>\n",
       "    <tr>\n",
       "      <th>3</th>\n",
       "      <td>3</td>\n",
       "      <td>entire booking ticketing experience stressful ...</td>\n",
       "      <td>-0.9474</td>\n",
       "      <td>Negative</td>\n",
       "    </tr>\n",
       "    <tr>\n",
       "      <th>4</th>\n",
       "      <td>4</td>\n",
       "      <td>british airway cancelled flight le hour automa...</td>\n",
       "      <td>-0.7650</td>\n",
       "      <td>Negative</td>\n",
       "    </tr>\n",
       "  </tbody>\n",
       "</table>\n",
       "</div>"
      ],
      "text/plain": [
       "   Unnamed: 0                                            reviews  Sentiment  \\\n",
       "0           0  absolutely terrible lost luggage flight delive...    -0.9543   \n",
       "1           1  booked premium economy round trip phoenix zuri...     0.9035   \n",
       "2           2  chose rotterdam london city airport convenienc...     0.3818   \n",
       "3           3  entire booking ticketing experience stressful ...    -0.9474   \n",
       "4           4  british airway cancelled flight le hour automa...    -0.7650   \n",
       "\n",
       "   Analysis  \n",
       "0  Negative  \n",
       "1  Positive  \n",
       "2   Neutral  \n",
       "3  Negative  \n",
       "4  Negative  "
      ]
     },
     "execution_count": 39,
     "metadata": {},
     "output_type": "execute_result"
    }
   ],
   "source": [
    "def vadersentimentanalysis(review):\n",
    "    vs = analyzer.polarity_scores(review)\n",
    "    return vs['compound']\n",
    "\n",
    "df['Sentiment'] = df['reviews'].apply(vadersentimentanalysis)\n",
    "\n",
    "\n",
    "def vader_analysis(compound):                \n",
    "    if compound >= 0.5:\n",
    "        return 'Positive'\n",
    "    elif compound < 0 :\n",
    "        return 'Negative'\n",
    "    else:\n",
    "        return 'Neutral'\n",
    "df['Analysis'] = df['Sentiment'].apply(vader_analysis)\n",
    "df.head()"
   ]
  },
  {
   "cell_type": "code",
   "execution_count": 40,
   "id": "3e1f6191",
   "metadata": {},
   "outputs": [
    {
     "data": {
      "text/plain": [
       "Analysis\n",
       "Neutral     1789\n",
       "Positive    1143\n",
       "Negative     855\n",
       "Name: count, dtype: int64"
      ]
     },
     "execution_count": 40,
     "metadata": {},
     "output_type": "execute_result"
    }
   ],
   "source": [
    "analysis = df['Analysis'].value_counts()\n",
    "analysis"
   ]
  },
  {
   "cell_type": "code",
   "execution_count": 41,
   "id": "043be2cb",
   "metadata": {
    "scrolled": true
   },
   "outputs": [
    {
     "data": {
      "image/png": "[encoded data removed]",
      "text/plain": [
       "<Figure size 2500x700 with 1 Axes>"
      ]
     },
     "metadata": {},
     "output_type": "display_data"
    }
   ],
   "source": [
    "plt.figure(figsize=(25,7))\n",
    "plt.subplot(1,3,2)\n",
    "plt.title(\"Reviews classified into different Sentiments\")\n",
    "plt.pie(analysis.values, labels = analysis.index, explode = (0, 0.05, 0.1), autopct='%1.1f%%', shadow=False , colors=(\"blue\", \"green\", \"red\"))\n",
    "plt.show()"
   ]
  },
  {
   "cell_type": "code",
   "execution_count": 54,
   "id": "f9da9dbd",
   "metadata": {},
   "outputs": [],
   "source": [
    "df.to_csv('BA_sentiment.csv', encoding='utf-8')"
   ]
  },
  {
   "cell_type": "code",
   "execution_count": 60,
   "id": "e08400a9",
   "metadata": {},
   "outputs": [
    {
     "data": {
      "text/html": [
       "<div>\n",
       "<style scoped>\n",
       "    .dataframe tbody tr th:only-of-type {\n",
       "        vertical-align: middle;\n",
       "    }\n",
       "\n",
       "    .dataframe tbody tr th {\n",
       "        vertical-align: top;\n",
       "    }\n",
       "\n",
       "    .dataframe thead th {\n",
       "        text-align: right;\n",
       "    }\n",
       "</style>\n",
       "<table border=\"1\" class=\"dataframe\">\n",
       "  <thead>\n",
       "    <tr style=\"text-align: right;\">\n",
       "      <th></th>\n",
       "      <th>Word</th>\n",
       "      <th>Count</th>\n",
       "    </tr>\n",
       "  </thead>\n",
       "  <tbody>\n",
       "    <tr>\n",
       "      <th>0</th>\n",
       "      <td>flight</td>\n",
       "      <td>5155</td>\n",
       "    </tr>\n",
       "    <tr>\n",
       "      <th>1</th>\n",
       "      <td>ba</td>\n",
       "      <td>3246</td>\n",
       "    </tr>\n",
       "    <tr>\n",
       "      <th>2</th>\n",
       "      <td>seat</td>\n",
       "      <td>2467</td>\n",
       "    </tr>\n",
       "    <tr>\n",
       "      <th>3</th>\n",
       "      <td>service</td>\n",
       "      <td>1932</td>\n",
       "    </tr>\n",
       "    <tr>\n",
       "      <th>4</th>\n",
       "      <td>london</td>\n",
       "      <td>1651</td>\n",
       "    </tr>\n",
       "    <tr>\n",
       "      <th>5</th>\n",
       "      <td>none</td>\n",
       "      <td>1565</td>\n",
       "    </tr>\n",
       "    <tr>\n",
       "      <th>6</th>\n",
       "      <td>time</td>\n",
       "      <td>1524</td>\n",
       "    </tr>\n",
       "    <tr>\n",
       "      <th>7</th>\n",
       "      <td>food</td>\n",
       "      <td>1338</td>\n",
       "    </tr>\n",
       "    <tr>\n",
       "      <th>8</th>\n",
       "      <td>crew</td>\n",
       "      <td>1285</td>\n",
       "    </tr>\n",
       "    <tr>\n",
       "      <th>9</th>\n",
       "      <td>british</td>\n",
       "      <td>1283</td>\n",
       "    </tr>\n",
       "    <tr>\n",
       "      <th>10</th>\n",
       "      <td>hour</td>\n",
       "      <td>1281</td>\n",
       "    </tr>\n",
       "    <tr>\n",
       "      <th>11</th>\n",
       "      <td>airway</td>\n",
       "      <td>1278</td>\n",
       "    </tr>\n",
       "    <tr>\n",
       "      <th>12</th>\n",
       "      <td>airline</td>\n",
       "      <td>1256</td>\n",
       "    </tr>\n",
       "    <tr>\n",
       "      <th>13</th>\n",
       "      <td>class</td>\n",
       "      <td>1211</td>\n",
       "    </tr>\n",
       "    <tr>\n",
       "      <th>14</th>\n",
       "      <td>cabin</td>\n",
       "      <td>1157</td>\n",
       "    </tr>\n",
       "    <tr>\n",
       "      <th>15</th>\n",
       "      <td>one</td>\n",
       "      <td>1094</td>\n",
       "    </tr>\n",
       "    <tr>\n",
       "      <th>16</th>\n",
       "      <td>good</td>\n",
       "      <td>1066</td>\n",
       "    </tr>\n",
       "    <tr>\n",
       "      <th>17</th>\n",
       "      <td>business</td>\n",
       "      <td>1034</td>\n",
       "    </tr>\n",
       "    <tr>\n",
       "      <th>18</th>\n",
       "      <td>heathrow</td>\n",
       "      <td>1011</td>\n",
       "    </tr>\n",
       "    <tr>\n",
       "      <th>19</th>\n",
       "      <td>would</td>\n",
       "      <td>981</td>\n",
       "    </tr>\n",
       "    <tr>\n",
       "      <th>20</th>\n",
       "      <td>staff</td>\n",
       "      <td>973</td>\n",
       "    </tr>\n",
       "    <tr>\n",
       "      <th>21</th>\n",
       "      <td>get</td>\n",
       "      <td>924</td>\n",
       "    </tr>\n",
       "    <tr>\n",
       "      <th>22</th>\n",
       "      <td>check</td>\n",
       "      <td>848</td>\n",
       "    </tr>\n",
       "    <tr>\n",
       "      <th>23</th>\n",
       "      <td>economy</td>\n",
       "      <td>843</td>\n",
       "    </tr>\n",
       "    <tr>\n",
       "      <th>24</th>\n",
       "      <td>passenger</td>\n",
       "      <td>820</td>\n",
       "    </tr>\n",
       "    <tr>\n",
       "      <th>25</th>\n",
       "      <td>u</td>\n",
       "      <td>816</td>\n",
       "    </tr>\n",
       "    <tr>\n",
       "      <th>26</th>\n",
       "      <td>first</td>\n",
       "      <td>746</td>\n",
       "    </tr>\n",
       "    <tr>\n",
       "      <th>27</th>\n",
       "      <td>customer</td>\n",
       "      <td>743</td>\n",
       "    </tr>\n",
       "    <tr>\n",
       "      <th>28</th>\n",
       "      <td>meal</td>\n",
       "      <td>722</td>\n",
       "    </tr>\n",
       "    <tr>\n",
       "      <th>29</th>\n",
       "      <td>back</td>\n",
       "      <td>702</td>\n",
       "    </tr>\n",
       "    <tr>\n",
       "      <th>30</th>\n",
       "      <td>drink</td>\n",
       "      <td>694</td>\n",
       "    </tr>\n",
       "    <tr>\n",
       "      <th>31</th>\n",
       "      <td>plane</td>\n",
       "      <td>688</td>\n",
       "    </tr>\n",
       "    <tr>\n",
       "      <th>32</th>\n",
       "      <td>even</td>\n",
       "      <td>685</td>\n",
       "    </tr>\n",
       "    <tr>\n",
       "      <th>33</th>\n",
       "      <td>boarding</td>\n",
       "      <td>657</td>\n",
       "    </tr>\n",
       "    <tr>\n",
       "      <th>34</th>\n",
       "      <td>bag</td>\n",
       "      <td>641</td>\n",
       "    </tr>\n",
       "  </tbody>\n",
       "</table>\n",
       "</div>"
      ],
      "text/plain": [
       "         Word  Count\n",
       "0      flight   5155\n",
       "1          ba   3246\n",
       "2        seat   2467\n",
       "3     service   1932\n",
       "4      london   1651\n",
       "5        none   1565\n",
       "6        time   1524\n",
       "7        food   1338\n",
       "8        crew   1285\n",
       "9     british   1283\n",
       "10       hour   1281\n",
       "11     airway   1278\n",
       "12    airline   1256\n",
       "13      class   1211\n",
       "14      cabin   1157\n",
       "15        one   1094\n",
       "16       good   1066\n",
       "17   business   1034\n",
       "18   heathrow   1011\n",
       "19      would    981\n",
       "20      staff    973\n",
       "21        get    924\n",
       "22      check    848\n",
       "23    economy    843\n",
       "24  passenger    820\n",
       "25          u    816\n",
       "26      first    746\n",
       "27   customer    743\n",
       "28       meal    722\n",
       "29       back    702\n",
       "30      drink    694\n",
       "31      plane    688\n",
       "32       even    685\n",
       "33   boarding    657\n",
       "34        bag    641"
      ]
     },
     "execution_count": 60,
     "metadata": {},
     "output_type": "execute_result"
    }
   ],
   "source": [
    "from nltk.tokenize import word_tokenize\n",
    "\n",
    "# Concatenating all text from df\n",
    "combined_text = ' '.join(df['reviews'])\n",
    "tokens = word_tokenize(combined_text)\n",
    "word_counts = Counter(tokens)\n",
    "top_words = word_counts.most_common(35)\n",
    "\n",
    "top_words_df = pd.DataFrame(top_words, columns=['Word', 'Count'])\n",
    "top_words_df"
   ]
  },
  {
   "cell_type": "markdown",
   "id": "ad816c99",
   "metadata": {},
   "source": [
    "# Trying Flair"
   ]
  },
  {
   "cell_type": "code",
   "execution_count": 53,
   "id": "19b9183c",
   "metadata": {},
   "outputs": [
    {
     "name": "stdout",
     "output_type": "stream",
     "text": [
      "Collecting TextClassifier\n",
      "  Using cached TextClassifier-0.0.8.tar.gz (4.7 kB)\n",
      "  Preparing metadata (setup.py): started\n",
      "  Preparing metadata (setup.py): finished with status 'error'\n",
      "Note: you may need to restart the kernel to use updated packages.\n"
     ]
    },
    {
     "name": "stderr",
     "output_type": "stream",
     "text": [
      "  error: subprocess-exited-with-error\n",
      "  \n",
      "  python setup.py egg_info did not run successfully.\n",
      "  exit code: 1\n",
      "  \n",
      "  [5 lines of output]\n",
      "  Traceback (most recent call last):\n",
      "    File \"<string>\", line 2, in <module>\n",
      "    File \"<pip-setuptools-caller>\", line 29, in <module>\n",
      "    File \"<frozen codecs>\", line 322, in decode\n",
      "  UnicodeDecodeError: 'utf-8' codec can't decode byte 0xc4 in position 35: invalid continuation byte\n",
      "  [end of output]\n",
      "  \n",
      "  note: This error originates from a subprocess, and is likely not a problem with pip.\n",
      "error: metadata-generation-failed\n",
      "\n",
      "Encountered error while generating package metadata.\n",
      "\n",
      "See above for output.\n",
      "\n",
      "note: This is an issue with the package mentioned above, not pip.\n",
      "hint: See above for details.\n"
     ]
    }
   ],
   "source": [
    "pip install TextClassifier"
   ]
  },
  {
   "cell_type": "code",
   "execution_count": 51,
   "id": "d4bb0292",
   "metadata": {},
   "outputs": [
    {
     "ename": "ModuleNotFoundError",
     "evalue": "No module named 'TextClassifier'",
     "output_type": "error",
     "traceback": [
      "\u001b[1;31m---------------------------------------------------------------------------\u001b[0m",
      "\u001b[1;31mModuleNotFoundError\u001b[0m                       Traceback (most recent call last)",
      "Cell \u001b[1;32mIn[51], line 1\u001b[0m\n\u001b[1;32m----> 1\u001b[0m \u001b[38;5;28;01mimport\u001b[39;00m \u001b[38;5;21;01mTextClassifier\u001b[39;00m\n\u001b[0;32m      3\u001b[0m classifier \u001b[38;5;241m=\u001b[39m TextClassifier\u001b[38;5;241m.\u001b[39mload(\u001b[38;5;124m'\u001b[39m\u001b[38;5;124men-sentiment\u001b[39m\u001b[38;5;124m'\u001b[39m)\n\u001b[0;32m      5\u001b[0m \u001b[38;5;28;01mfor\u001b[39;00m index, row \u001b[38;5;129;01min\u001b[39;00m df\u001b[38;5;241m.\u001b[39miterrows():\n",
      "\u001b[1;31mModuleNotFoundError\u001b[0m: No module named 'TextClassifier'"
     ]
    }
   ],
   "source": [
    "import TextClassifier\n",
    "\n",
    "classifier = TextClassifier.load('en-sentiment')\n",
    "\n",
    "for index, row in df.iterrows():\n",
    "    text = row['tokens']  \n",
    "    sentence = Sentence(text)\n",
    "    classifier.predict(sentence)\n",
    "    sentiment = sentence.labels[0].value\n",
    "    score = sentence.labels[0].score\n",
    "    df.loc[index, 'sentiment'] = sentiment\n",
    "    df.loc[index, 'score'] = score\n",
    "\n",
    "\n",
    "print(df.head())"
   ]
  },
  {
   "cell_type": "code",
   "execution_count": 52,
   "id": "35f609b0",
   "metadata": {},
   "outputs": [
    {
     "ename": "NameError",
     "evalue": "name 'TextClassifier' is not defined",
     "output_type": "error",
     "traceback": [
      "\u001b[1;31m---------------------------------------------------------------------------\u001b[0m",
      "\u001b[1;31mNameError\u001b[0m                                 Traceback (most recent call last)",
      "Cell \u001b[1;32mIn[52], line 2\u001b[0m\n\u001b[0;32m      1\u001b[0m \u001b[38;5;66;03m# Load the pre-trained sentiment analysis model\u001b[39;00m\n\u001b[1;32m----> 2\u001b[0m classifier \u001b[38;5;241m=\u001b[39m TextClassifier\u001b[38;5;241m.\u001b[39mload(\u001b[38;5;124m'\u001b[39m\u001b[38;5;124men-sentiment\u001b[39m\u001b[38;5;124m'\u001b[39m)\n\u001b[0;32m      4\u001b[0m \u001b[38;5;66;03m# Iterate over each row in the DataFrame # :( its really time consuming :(\u001b[39;00m\n\u001b[0;32m      5\u001b[0m \u001b[38;5;28;01mfor\u001b[39;00m index, row \u001b[38;5;129;01min\u001b[39;00m df\u001b[38;5;241m.\u001b[39miterrows():\n",
      "\u001b[1;31mNameError\u001b[0m: name 'TextClassifier' is not defined"
     ]
    }
   ],
   "source": [
    "# Load the pre-trained sentiment analysis model\n",
    "classifier = TextClassifier.load('en-sentiment')\n",
    "\n",
    "# Iterate over each row in the DataFrame # :( its really time consuming :(\n",
    "for index, row in df.iterrows():\n",
    "    text = row['tokens']  \n",
    "    sentence = Sentence(text)\n",
    "    \n",
    "    # Predict the sentiment for the current sentence\n",
    "    classifier.predict(sentence)\n",
    "    \n",
    "    # Get the predicted sentiment and score\n",
    "    sentiment = sentence.labels[0].value\n",
    "    score = sentence.labels[0].score\n",
    "    \n",
    "    # Update the DataFrame with the sentiment and score\n",
    "    df.loc[index, 'sentiment'] = sentiment\n",
    "    df.loc[index, 'score'] = score\n",
    "\n",
    "# Print the 'sentiment' column of the DataFrame\n",
    "print(df['sentiment'])"
   ]
  },
  {
   "cell_type": "code",
   "execution_count": null,
   "id": "f9052458",
   "metadata": {},
   "outputs": [],
   "source": []
  }
 ],
 "metadata": {
  "kernelspec": {
   "display_name": "Python 3 (ipykernel)",
   "language": "python",
   "name": "python3"
  },
  "language_info": {
   "codemirror_mode": {
    "name": "ipython",
    "version": 3
   },
   "file_extension": ".py",
   "mimetype": "text/x-python",
   "name": "python",
   "nbconvert_exporter": "python",
   "pygments_lexer": "ipython3",
   "version": "3.11.5"
  }
 },
 "nbformat": 4,
 "nbformat_minor": 5
}
